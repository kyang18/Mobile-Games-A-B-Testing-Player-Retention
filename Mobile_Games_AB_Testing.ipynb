{
 "cells": [
  {
   "cell_type": "markdown",
   "metadata": {
    "id": "CIVb9rk8P3yb"
   },
   "source": [
    "# <center>Mobile Games: A/B Testing & Player Retention </center>\n",
    "\n",
    "## Table of Contents\n",
    "\n",
    "1. **[Project Background](#1)**\n",
    "2. **[About the Data](#2)**\n",
    "3. **[Analyzing Player Behavior ](#3)**\n",
    "4. **[Comparing 1-day Retention](#4)**\n",
    "5. **[Comparing 7-day Retention](#5)**\n",
    "6. **[Conclusion](#6)**"
   ]
  },
  {
   "cell_type": "markdown",
   "metadata": {
    "id": "9v0f39n0P3yf"
   },
   "source": [
    "## Part 1. Project Background <a name= '1'></a>"
   ]
  },
  {
   "cell_type": "markdown",
   "metadata": {
    "id": "1PPEPs7lP3yg"
   },
   "source": [
    "<p><a href=\"https://www.facebook.com/cookiecatsgame\">Cookie Cats</a> is a hugely popular mobile puzzle game developed by <a href=\"http://tactile.dk\">Tactile Entertainment</a>. It's a classic \"connect three\"-style puzzle game where the player must connect tiles of the same color to clear the board and win the level. It also features singing cats. Check out this short demo:</p>\n",
    "<p><a href=\"https://youtu.be/GaP5f0jVTWE\"><img src=\"https://s3.amazonaws.com/assets.datacamp.com/production/project_184/img/cookie_cats_video.jpeg\" style=\"width: 500px\"></a></p>\n",
    "<p>As players progress through the levels of the game, they will <strong>occasionally encounter gates that force them to wait a non-trivial amount of time or make an in-app purchase to progress</strong>. In addition to driving in-app purchases, these gates serve the important purpose of giving players an enforced break from playing the game, hopefully resulting in that the player's enjoyment of the game being increased and prolonged.<p>But where should the gates be placed? Initially the first gate was placed at level 30. <strong>In this project, we're going to analyze an AB-test where we moved the first gate in Cookie Cats from level 30 to level 40. In particular, we will look at the impact on player retention.</strong> </p>\n",
    "<p><img src=\"https://s3.amazonaws.com/assets.datacamp.com/production/project_184/img/cc_gates.png\" alt=\"\"></p>"
   ]
  },
  {
   "cell_type": "markdown",
   "metadata": {
    "id": "iEznUSoXP3yh"
   },
   "source": [
    "## Part 2. About the Data  <a name= '2'></a>"
   ]
  },
  {
   "cell_type": "markdown",
   "metadata": {
    "id": "1qshvW_LP3yi"
   },
   "source": [
    "### 2.1 Load the AB-test data"
   ]
  },
  {
   "cell_type": "code",
   "execution_count": 168,
   "metadata": {
    "id": "P3IiV7hvP3yi",
    "outputId": "873abccc-974d-4872-e4f0-1489be95e7bb"
   },
   "outputs": [
    {
     "data": {
      "text/html": [
       "<div>\n",
       "<style scoped>\n",
       "    .dataframe tbody tr th:only-of-type {\n",
       "        vertical-align: middle;\n",
       "    }\n",
       "\n",
       "    .dataframe tbody tr th {\n",
       "        vertical-align: top;\n",
       "    }\n",
       "\n",
       "    .dataframe thead th {\n",
       "        text-align: right;\n",
       "    }\n",
       "</style>\n",
       "<table border=\"1\" class=\"dataframe\">\n",
       "  <thead>\n",
       "    <tr style=\"text-align: right;\">\n",
       "      <th></th>\n",
       "      <th>userid</th>\n",
       "      <th>version</th>\n",
       "      <th>sum_gamerounds</th>\n",
       "      <th>retention_1</th>\n",
       "      <th>retention_7</th>\n",
       "    </tr>\n",
       "  </thead>\n",
       "  <tbody>\n",
       "    <tr>\n",
       "      <th>0</th>\n",
       "      <td>116</td>\n",
       "      <td>gate_30</td>\n",
       "      <td>3</td>\n",
       "      <td>False</td>\n",
       "      <td>False</td>\n",
       "    </tr>\n",
       "    <tr>\n",
       "      <th>1</th>\n",
       "      <td>337</td>\n",
       "      <td>gate_30</td>\n",
       "      <td>38</td>\n",
       "      <td>True</td>\n",
       "      <td>False</td>\n",
       "    </tr>\n",
       "    <tr>\n",
       "      <th>2</th>\n",
       "      <td>377</td>\n",
       "      <td>gate_40</td>\n",
       "      <td>165</td>\n",
       "      <td>True</td>\n",
       "      <td>False</td>\n",
       "    </tr>\n",
       "    <tr>\n",
       "      <th>3</th>\n",
       "      <td>483</td>\n",
       "      <td>gate_40</td>\n",
       "      <td>1</td>\n",
       "      <td>False</td>\n",
       "      <td>False</td>\n",
       "    </tr>\n",
       "    <tr>\n",
       "      <th>4</th>\n",
       "      <td>488</td>\n",
       "      <td>gate_40</td>\n",
       "      <td>179</td>\n",
       "      <td>True</td>\n",
       "      <td>True</td>\n",
       "    </tr>\n",
       "  </tbody>\n",
       "</table>\n",
       "</div>"
      ],
      "text/plain": [
       "   userid  version  sum_gamerounds  retention_1  retention_7\n",
       "0     116  gate_30               3        False        False\n",
       "1     337  gate_30              38         True        False\n",
       "2     377  gate_40             165         True        False\n",
       "3     483  gate_40               1        False        False\n",
       "4     488  gate_40             179         True         True"
      ]
     },
     "execution_count": 168,
     "metadata": {},
     "output_type": "execute_result"
    }
   ],
   "source": [
    "import pandas as pd\n",
    "import numpy as np\n",
    "import matplotlib.pyplot as plt\n",
    "import seaborn as sns\n",
    "\n",
    "%matplotlib inline\n",
    "\n",
    "df = pd.read_csv('cookie_cats.csv')\n",
    "df.head()"
   ]
  },
  {
   "cell_type": "markdown",
   "metadata": {
    "id": "3AV-1hM5P3yl"
   },
   "source": [
    "<p>The data is from 90,189 players that installed the game while the AB-test was running. The variables are:</p>\n",
    "<ul>\n",
    "<li><code>userid</code> - a unique number that identifies each player.</li>\n",
    "<li><code>version</code> - whether the player was put in the control group (<code>gate_30</code> - a gate at level 30) or the test group (<code>gate_40</code> - a gate at level 40).</li>\n",
    "<li><code>sum_gamerounds</code> - the number of game rounds played by the player during the first week after install\n",
    "<li><code>retention_1</code> - did the player come back and play 1 day after SEE THE GATE?</li>\n",
    "<li><code>retention_7</code> - did the player come back and play 7 days after SEE THE GATE?</li>\n",
    "</ul>\n",
    "<p>When a player installed the game, he or she was randomly assigned to either <code>gate_30</code> or <code>gate_40</code>. </p>"
   ]
  },
  {
   "cell_type": "markdown",
   "metadata": {
    "id": "H-HNgyTCP3ym"
   },
   "source": [
    "### 2.2 Check missing values"
   ]
  },
  {
   "cell_type": "code",
   "execution_count": 169,
   "metadata": {
    "id": "fIGFMBxfP3ym",
    "outputId": "b17b78a2-dc94-4a82-976c-212413125357",
    "scrolled": true
   },
   "outputs": [
    {
     "name": "stdout",
     "output_type": "stream",
     "text": [
      "<class 'pandas.core.frame.DataFrame'>\n",
      "RangeIndex: 90189 entries, 0 to 90188\n",
      "Data columns (total 5 columns):\n",
      " #   Column          Non-Null Count  Dtype \n",
      "---  ------          --------------  ----- \n",
      " 0   userid          90189 non-null  int64 \n",
      " 1   version         90189 non-null  object\n",
      " 2   sum_gamerounds  90189 non-null  int64 \n",
      " 3   retention_1     90189 non-null  bool  \n",
      " 4   retention_7     90189 non-null  bool  \n",
      "dtypes: bool(2), int64(2), object(1)\n",
      "memory usage: 2.2+ MB\n"
     ]
    }
   ],
   "source": [
    "df.info()"
   ]
  },
  {
   "cell_type": "markdown",
   "metadata": {
    "id": "PiX7kFqIP3yn"
   },
   "source": [
    "Luckily, there is no missing value in this dataset.\n",
    "### 2.3 Count the number of players in each group"
   ]
  },
  {
   "cell_type": "code",
   "execution_count": 170,
   "metadata": {
    "id": "3imKXfvKP3yo",
    "outputId": "63d097ac-d301-42f1-c5c2-35f54341178b"
   },
   "outputs": [
    {
     "data": {
      "text/html": [
       "<div>\n",
       "<style scoped>\n",
       "    .dataframe tbody tr th:only-of-type {\n",
       "        vertical-align: middle;\n",
       "    }\n",
       "\n",
       "    .dataframe tbody tr th {\n",
       "        vertical-align: top;\n",
       "    }\n",
       "\n",
       "    .dataframe thead th {\n",
       "        text-align: right;\n",
       "    }\n",
       "</style>\n",
       "<table border=\"1\" class=\"dataframe\">\n",
       "  <thead>\n",
       "    <tr style=\"text-align: right;\">\n",
       "      <th></th>\n",
       "      <th>userid</th>\n",
       "      <th>sum_gamerounds</th>\n",
       "      <th>retention_1</th>\n",
       "      <th>retention_7</th>\n",
       "    </tr>\n",
       "    <tr>\n",
       "      <th>version</th>\n",
       "      <th></th>\n",
       "      <th></th>\n",
       "      <th></th>\n",
       "      <th></th>\n",
       "    </tr>\n",
       "  </thead>\n",
       "  <tbody>\n",
       "    <tr>\n",
       "      <th>gate_30</th>\n",
       "      <td>44700</td>\n",
       "      <td>44700</td>\n",
       "      <td>44700</td>\n",
       "      <td>44700</td>\n",
       "    </tr>\n",
       "    <tr>\n",
       "      <th>gate_40</th>\n",
       "      <td>45489</td>\n",
       "      <td>45489</td>\n",
       "      <td>45489</td>\n",
       "      <td>45489</td>\n",
       "    </tr>\n",
       "  </tbody>\n",
       "</table>\n",
       "</div>"
      ],
      "text/plain": [
       "         userid  sum_gamerounds  retention_1  retention_7\n",
       "version                                                  \n",
       "gate_30   44700           44700        44700        44700\n",
       "gate_40   45489           45489        45489        45489"
      ]
     },
     "execution_count": 170,
     "metadata": {},
     "output_type": "execute_result"
    }
   ],
   "source": [
    "df.groupby('version').count()"
   ]
  },
  {
   "cell_type": "markdown",
   "metadata": {
    "id": "_2-Nu7QHP3yp"
   },
   "source": [
    "# When a player installed the game, he or she was randomly assigned to either gate_30 or gate_40. The number of players is roughly the same in the control and test group."
   ]
  },
  {
   "cell_type": "code",
   "execution_count": 171,
   "metadata": {},
   "outputs": [
    {
     "name": "stdout",
     "output_type": "stream",
     "text": [
      "                sum_gamerounds  retention_1  retention_7\n",
      "sum_gamerounds        1.000000     0.197603     0.279288\n",
      "retention_1           0.197603     1.000000     0.327401\n",
      "retention_7           0.279288     0.327401     1.000000\n"
     ]
    }
   ],
   "source": [
    "# Calculate the correlation matrix for the three columns\n",
    "correlation_matrix = df[['sum_gamerounds', 'retention_1', 'retention_7']].corr()\n",
    "\n",
    "print(correlation_matrix)\n"
   ]
  },
  {
   "cell_type": "code",
   "execution_count": 172,
   "metadata": {},
   "outputs": [
    {
     "data": {
      "image/png": "[encoded data removed]",
      "text/plain": [
       "<Figure size 800x600 with 2 Axes>"
      ]
     },
     "metadata": {},
     "output_type": "display_data"
    }
   ],
   "source": [
    "# Set up the matplotlib figure\n",
    "plt.figure(figsize=(8, 6))\n",
    "\n",
    "# Draw the heatmap\n",
    "sns.heatmap(correlation_matrix, annot=True, cmap='coolwarm', cbar=True)\n",
    "\n",
    "# Show the plot\n",
    "plt.show()"
   ]
  },
  {
   "cell_type": "markdown",
   "metadata": {},
   "source": [
    "Overall, the positive values indicate that there are positive associations between playing more game rounds and user retention both after 1 day and after 7 days, with the relationship being somewhat stronger for the 7-day retention. Additionally, retention after 1 day is moderately related to retention after 7 days, which is to be expected since users retained for longer periods are likely included in the count of those retained for shorter periods."
   ]
  },
  {
   "cell_type": "markdown",
   "metadata": {
    "id": "QNylA9O_P3yp"
   },
   "source": [
    "## Part 3. Analyzing Player Behavior \n",
    "\n",
    "# I will plot a boxplot to visualize the distribution of 'sum_gamerounds', which would give us a rough idea of how many game rounds were played by a player during the first week after installing the game."
   ]
  },
  {
   "cell_type": "code",
   "execution_count": 173,
   "metadata": {
    "id": "vOPCB0heP3yq",
    "outputId": "b8bcd1af-c9d6-4bd9-f4f5-4123cd536afc"
   },
   "outputs": [
    {
     "data": {
      "text/plain": [
       "<Axes: >"
      ]
     },
     "execution_count": 173,
     "metadata": {},
     "output_type": "execute_result"
    },
    {
     "data": {
      "image/png": "[encoded data removed]",
      "text/plain": [
       "<Figure size 500x1000 with 1 Axes>"
      ]
     },
     "metadata": {},
     "output_type": "display_data"
    }
   ],
   "source": [
    "df['sum_gamerounds'].plot.box(figsize=(5,10))"
   ]
  },
  {
   "cell_type": "markdown",
   "metadata": {
    "id": "6nyxccKAP3yq"
   },
   "source": [
    "Clearly, there is an outlier. This player played about 50,000 game rounds during the first week! Due to this outlier, this boxplot is extremely skewed and not very informative. To learn about the behavior of the majority of the players, we will check the percentiles."
   ]
  },
  {
   "cell_type": "code",
   "execution_count": 174,
   "metadata": {
    "id": "D5p6MgDcP3yq",
    "outputId": "fc82818a-7d6e-4d9d-c6c0-5a4dc2edaf04"
   },
   "outputs": [
    {
     "data": {
      "text/plain": [
       "count    90189.000000\n",
       "mean        51.872457\n",
       "std        195.050858\n",
       "min          0.000000\n",
       "25%          5.000000\n",
       "50%         16.000000\n",
       "75%         51.000000\n",
       "max      49854.000000\n",
       "Name: sum_gamerounds, dtype: float64"
      ]
     },
     "execution_count": 174,
     "metadata": {},
     "output_type": "execute_result"
    }
   ],
   "source": [
    "df['sum_gamerounds'].describe()"
   ]
  },
  {
   "cell_type": "code",
   "execution_count": 188,
   "metadata": {},
   "outputs": [
    {
     "data": {
      "text/plain": [
       "count    90188.000000\n",
       "mean        51.320253\n",
       "std        102.682719\n",
       "min          0.000000\n",
       "25%          5.000000\n",
       "50%         16.000000\n",
       "75%         51.000000\n",
       "max       2961.000000\n",
       "Name: sum_gamerounds, dtype: float64"
      ]
     },
     "execution_count": 188,
     "metadata": {},
     "output_type": "execute_result"
    },
    {
     "data": {
      "image/png": "[encoded data removed]",
      "text/plain": [
       "<Figure size 640x480 with 1 Axes>"
      ]
     },
     "metadata": {},
     "output_type": "display_data"
    }
   ],
   "source": [
    "# Remove outlier.\n",
    "df = df[df['sum_gamerounds'] < df['sum_gamerounds'].max()]\n",
    "plt.plot(df['sum_gamerounds'])\n",
    "df['sum_gamerounds'].describe()"
   ]
  },
  {
   "cell_type": "code",
   "execution_count": 190,
   "metadata": {
    "id": "Z6UeGnOFP3yr",
    "outputId": "88c08c88-7cb0-425e-d10b-b9bcca913328"
   },
   "outputs": [
    {
     "data": {
      "text/plain": [
       "sum_gamerounds\n",
       "0       3994\n",
       "1       5538\n",
       "2       4606\n",
       "3       3958\n",
       "4       3629\n",
       "        ... \n",
       "2251       1\n",
       "2294       1\n",
       "2438       1\n",
       "2640       1\n",
       "2961       1\n",
       "Name: userid, Length: 941, dtype: int64"
      ]
     },
     "execution_count": 190,
     "metadata": {},
     "output_type": "execute_result"
    }
   ],
   "source": [
    "# Counting the number of players for each number of gamerounds\n",
    "plot_df = df.groupby('sum_gamerounds')['userid'].count()\n",
    "plot_df"
   ]
  },
  {
   "cell_type": "markdown",
   "metadata": {
    "id": "WlkxhhuVP3yr"
   },
   "source": [
    "<p>As we can see, 50% of players played fewer than 16 game rounds during the first week after installation, and 75% of players played fewer than 51 rounds.\n",
    "<p>Nearly 4000 players did not even play a single round after installation. Possible reasons may include:\n",
    "<ul>\n",
    "    <li>They downloaded a number of new games at the same time and were attracted by other games.\n",
    "    <li>They opened the app but did not like the design/interface/music, so they quit even before playing the game.\n",
    "    <li>They have not started playing the game yet.\n",
    "    <li>......\n",
    "</ul>\n",
    "\n",
    "<p>Another number worth attention is that more than 14,000 players played fewer than three rounds. For these players, the reasons for leaving may include: </p>\n",
    "<ul>\n",
    "    <li>They did not enjoy the game. (This is probably the most common reason).\n",
    "    <li>The game turned out to be different from what they expected.\n",
    "    <li>The game was too easy and they got bored of it.\n",
    "    <li>......\n",
    "</ul>\n",
    "\n",
    "It is important to understand why a large number of players quit the game at an early stage. Tactile Entertainment can try to collect player feedback, for example, through an in-app survey."
   ]
  },
  {
   "cell_type": "code",
   "execution_count": 191,
   "metadata": {
    "id": "EwRibcozP3ys",
    "outputId": "9cc3999b-a08a-49c2-972a-033acae7b93a"
   },
   "outputs": [
    {
     "data": {
      "text/plain": [
       "Text(0.5, 0, '# Game rounds')"
      ]
     },
     "execution_count": 191,
     "metadata": {},
     "output_type": "execute_result"
    },
    {
     "data": {
      "image/png": "[encoded data removed]",
      "text/plain": [
       "<Figure size 1000x600 with 1 Axes>"
      ]
     },
     "metadata": {},
     "output_type": "display_data"
    }
   ],
   "source": [
    "# Plot the distribution of players that played 0 to 100 game rounds during their first week playing the game.\n",
    "%matplotlib inline\n",
    "\n",
    "ax = plot_df[:100].plot(figsize=(10,6))\n",
    "ax.set_title(\"The number of players that played 0-100 game rounds during the first week\")\n",
    "ax.set_ylabel(\"Number of Players\")\n",
    "ax.set_xlabel('# Game rounds')"
   ]
  },
  {
   "cell_type": "markdown",
   "metadata": {
    "id": "t9DnlvB3P3ys"
   },
   "source": [
    "The distribution is highly skewed, with a long tail on the right. A huge number of players played fewer than 20 rounds and left the game. For rounds greater than 60, the number of players stayed steady at about 300."
   ]
  },
  {
   "cell_type": "markdown",
   "metadata": {},
   "source": [
    "The null hypothesis is that there is no siginificant difference on the retention rate between the two versions."
   ]
  },
  {
   "cell_type": "markdown",
   "metadata": {
    "id": "VmxcxYFMP3ys"
   },
   "source": [
    "## Part 4. Comparing 1-day Retention  <a name= '4'></a>\n",
    "\n",
    "<p>In the plot above we can see that some players install the game but then never play it, some players just play a couple of game rounds in their first week, and some get really hooked! What we want is for players to like the game and to get hooked.\n",
    "<p>A common metric in the video gaming industry for how fun and engaging a game is <strong>1-day retention: the percentage of players that comes back and plays the game one day after they have installed it.</strong>  The higher 1-day retention is, the easier it is to retain players and build a large player base. </p>"
   ]
  },
  {
   "cell_type": "markdown",
   "metadata": {
    "id": "mBzjZGp7P3yt"
   },
   "source": [
    "#### *Overall 1-day retention*"
   ]
  },
  {
   "cell_type": "code",
   "execution_count": 201,
   "metadata": {
    "id": "MCnsUXu5P3yu",
    "outputId": "cd3f9dad-9a15-40c9-ee86-c2d4c35a0553"
   },
   "outputs": [
    {
     "name": "stdout",
     "output_type": "stream",
     "text": [
      "Retention on Day 1: 44.52%\n"
     ]
    }
   ],
   "source": [
    "retention_1_percentage = (df['retention_1'].sum() / df['retention_1'].count()) * 100\n",
    "print(f\"Retention on Day 1: {retention_1_percentage:.2f}%\")\n",
    "# When using .sum(), T/F will first be converted to 1/0.\n",
    "\n",
    "# Equivalent to df['retention_1'].mean()\n",
    "# Mean is calculated by summing the values and dividing by the total number of values."
   ]
  },
  {
   "cell_type": "markdown",
   "metadata": {
    "id": "FCwTq73TP3yu"
   },
   "source": [
    "A little less than half of the players come back one day after installing the game. Now that we have a benchmark, let's look at how 1-day retention differs between the two AB-groups."
   ]
  },
  {
   "cell_type": "markdown",
   "metadata": {
    "id": "8QgoRjCpP3yv"
   },
   "source": [
    "#### *1-day retention for each AB-group*"
   ]
  },
  {
   "cell_type": "code",
   "execution_count": 202,
   "metadata": {
    "id": "srorZ07pP3yv",
    "outputId": "a748a081-1ff8-4448-ae4b-214fd2c193d5"
   },
   "outputs": [
    {
     "data": {
      "text/plain": [
       "version\n",
       "gate_30    0.448198\n",
       "gate_40    0.442283\n",
       "Name: retention_1, dtype: float64"
      ]
     },
     "execution_count": 202,
     "metadata": {},
     "output_type": "execute_result"
    }
   ],
   "source": [
    "df.groupby('version')['retention_1'].mean()"
   ]
  },
  {
   "cell_type": "markdown",
   "metadata": {
    "id": "I4EJwi1YP3yw"
   },
   "source": [
    "It appears that <strong>there was a slight decrease in 1-day retention when the gate was moved to level 40</strong> (44.2%) compared to the control when it was at level 30 (44.8%). It's a small change, but even small changes in retention can have a large impact. But while we are certain of the difference in the data, how certain should we be that a gate at level 40 will be worse in the future?\n",
    "<p>There are a couple of ways we can get at the certainty of these retention numbers. Here we will use bootstrapping: We will repeatedly re-sample our dataset (with replacement) and calculate 1-day retention for those samples. The variation in 1-day retention will give us an indication of how uncertain the retention numbers are."
   ]
  },
  {
   "cell_type": "markdown",
   "metadata": {
    "id": "awPt3AhaP3yw"
   },
   "source": [
    "#### *Bootstrapping: Should we be confident in the difference?*"
   ]
  },
  {
   "cell_type": "code",
   "execution_count": 203,
   "metadata": {
    "id": "7r2hdtMzUhyL"
   },
   "outputs": [
    {
     "data": {
      "text/html": [
       "<div>\n",
       "<style scoped>\n",
       "    .dataframe tbody tr th:only-of-type {\n",
       "        vertical-align: middle;\n",
       "    }\n",
       "\n",
       "    .dataframe tbody tr th {\n",
       "        vertical-align: top;\n",
       "    }\n",
       "\n",
       "    .dataframe thead th {\n",
       "        text-align: right;\n",
       "    }\n",
       "</style>\n",
       "<table border=\"1\" class=\"dataframe\">\n",
       "  <thead>\n",
       "    <tr style=\"text-align: right;\">\n",
       "      <th></th>\n",
       "      <th>userid</th>\n",
       "      <th>version</th>\n",
       "      <th>sum_gamerounds</th>\n",
       "      <th>retention_1</th>\n",
       "      <th>retention_7</th>\n",
       "    </tr>\n",
       "  </thead>\n",
       "  <tbody>\n",
       "    <tr>\n",
       "      <th>59203</th>\n",
       "      <td>6554542</td>\n",
       "      <td>gate_30</td>\n",
       "      <td>29</td>\n",
       "      <td>False</td>\n",
       "      <td>False</td>\n",
       "    </tr>\n",
       "    <tr>\n",
       "      <th>70802</th>\n",
       "      <td>7851158</td>\n",
       "      <td>gate_30</td>\n",
       "      <td>9</td>\n",
       "      <td>True</td>\n",
       "      <td>False</td>\n",
       "    </tr>\n",
       "    <tr>\n",
       "      <th>11909</th>\n",
       "      <td>1314923</td>\n",
       "      <td>gate_40</td>\n",
       "      <td>28</td>\n",
       "      <td>False</td>\n",
       "      <td>False</td>\n",
       "    </tr>\n",
       "    <tr>\n",
       "      <th>55403</th>\n",
       "      <td>6143860</td>\n",
       "      <td>gate_30</td>\n",
       "      <td>0</td>\n",
       "      <td>False</td>\n",
       "      <td>False</td>\n",
       "    </tr>\n",
       "    <tr>\n",
       "      <th>85514</th>\n",
       "      <td>9474642</td>\n",
       "      <td>gate_40</td>\n",
       "      <td>154</td>\n",
       "      <td>True</td>\n",
       "      <td>True</td>\n",
       "    </tr>\n",
       "    <tr>\n",
       "      <th>...</th>\n",
       "      <td>...</td>\n",
       "      <td>...</td>\n",
       "      <td>...</td>\n",
       "      <td>...</td>\n",
       "      <td>...</td>\n",
       "    </tr>\n",
       "    <tr>\n",
       "      <th>82633</th>\n",
       "      <td>9154467</td>\n",
       "      <td>gate_40</td>\n",
       "      <td>1</td>\n",
       "      <td>False</td>\n",
       "      <td>False</td>\n",
       "    </tr>\n",
       "    <tr>\n",
       "      <th>20429</th>\n",
       "      <td>2272121</td>\n",
       "      <td>gate_30</td>\n",
       "      <td>7</td>\n",
       "      <td>False</td>\n",
       "      <td>False</td>\n",
       "    </tr>\n",
       "    <tr>\n",
       "      <th>29630</th>\n",
       "      <td>3296656</td>\n",
       "      <td>gate_30</td>\n",
       "      <td>4</td>\n",
       "      <td>False</td>\n",
       "      <td>False</td>\n",
       "    </tr>\n",
       "    <tr>\n",
       "      <th>66732</th>\n",
       "      <td>7390366</td>\n",
       "      <td>gate_30</td>\n",
       "      <td>49</td>\n",
       "      <td>True</td>\n",
       "      <td>False</td>\n",
       "    </tr>\n",
       "    <tr>\n",
       "      <th>26512</th>\n",
       "      <td>2952421</td>\n",
       "      <td>gate_30</td>\n",
       "      <td>18</td>\n",
       "      <td>True</td>\n",
       "      <td>False</td>\n",
       "    </tr>\n",
       "  </tbody>\n",
       "</table>\n",
       "<p>90188 rows × 5 columns</p>\n",
       "</div>"
      ],
      "text/plain": [
       "        userid  version  sum_gamerounds  retention_1  retention_7\n",
       "59203  6554542  gate_30              29        False        False\n",
       "70802  7851158  gate_30               9         True        False\n",
       "11909  1314923  gate_40              28        False        False\n",
       "55403  6143860  gate_30               0        False        False\n",
       "85514  9474642  gate_40             154         True         True\n",
       "...        ...      ...             ...          ...          ...\n",
       "82633  9154467  gate_40               1        False        False\n",
       "20429  2272121  gate_30               7        False        False\n",
       "29630  3296656  gate_30               4        False        False\n",
       "66732  7390366  gate_30              49         True        False\n",
       "26512  2952421  gate_30              18         True        False\n",
       "\n",
       "[90188 rows x 5 columns]"
      ]
     },
     "execution_count": 203,
     "metadata": {},
     "output_type": "execute_result"
    }
   ],
   "source": [
    "df.sample(frac = 1,replace = True)"
   ]
  },
  {
   "cell_type": "code",
   "execution_count": 204,
   "metadata": {
    "id": "Tw_YADf2UqM7"
   },
   "outputs": [
    {
     "data": {
      "text/plain": [
       "version\n",
       "gate_30    0.449747\n",
       "gate_40    0.445868\n",
       "Name: retention_1, dtype: float64"
      ]
     },
     "execution_count": 204,
     "metadata": {},
     "output_type": "execute_result"
    }
   ],
   "source": [
    "df.sample(frac = 1,replace = True).groupby('version')['retention_1'].mean()"
   ]
  },
  {
   "cell_type": "code",
   "execution_count": 205,
   "metadata": {
    "id": "AFIh628oP3yx",
    "outputId": "8c0e2760-00b0-4866-a390-3b14ec7e009c"
   },
   "outputs": [
    {
     "data": {
      "text/plain": [
       "<Axes: ylabel='Density'>"
      ]
     },
     "execution_count": 205,
     "metadata": {},
     "output_type": "execute_result"
    },
    {
     "data": {
      "image/png": "[encoded data removed]",
      "text/plain": [
       "<Figure size 640x480 with 1 Axes>"
      ]
     },
     "metadata": {},
     "output_type": "display_data"
    }
   ],
   "source": [
    "# Creating an list with bootstrapped means for each AB-group\n",
    "boot_1d = []\n",
    "for i in range(500):\n",
    "    boot_mean = df.sample(frac = 1,replace = True).groupby('version')['retention_1'].mean()\n",
    "    boot_1d.append(boot_mean)\n",
    "\n",
    "# Transforming the list to a DataFrame\n",
    "boot_1d = pd.DataFrame(boot_1d)\n",
    "\n",
    "# A Kernel Density Estimate plot of the bootstrap distributions\n",
    "boot_1d.plot(kind='density')"
   ]
  },
  {
   "cell_type": "markdown",
   "metadata": {
    "id": "02eL2ArJP3yx"
   },
   "source": [
    "These two distributions above represent the bootstrap uncertainty over what the underlying 1-day retention could be for the two AB-groups. Just eyeballing this plot, we can see that there seems to be some evidence of a difference, albeit small. Let's zoom in on the difference in 1-day retention\n"
   ]
  },
  {
   "cell_type": "code",
   "execution_count": 206,
   "metadata": {
    "id": "Z_r33amOP3yx",
    "outputId": "df206bf6-f312-4a3c-81e2-ef7e80c33d1b"
   },
   "outputs": [
    {
     "name": "stdout",
     "output_type": "stream",
     "text": [
      "Probability that 1-day retention is greater when the gate is at level 30: 0.958\n"
     ]
    },
    {
     "data": {
      "image/png": "[encoded data removed]",
      "text/plain": [
       "<Figure size 640x480 with 1 Axes>"
      ]
     },
     "metadata": {},
     "output_type": "display_data"
    }
   ],
   "source": [
    "# Adding a column with the % difference between the two AB-groups\n",
    "boot_1d['diff'] = (boot_1d.gate_30 - boot_1d.gate_40)/boot_1d.gate_40*100\n",
    "\n",
    "# Ploting the bootstrap % difference\n",
    "ax = boot_1d['diff'].plot(kind='density')\n",
    "ax.set_title('% difference in 1-day retention between the two AB-groups')\n",
    "\n",
    "# Calculating the probability that 1-day retention is greater when the gate is at level 30\n",
    "print('Probability that 1-day retention is greater when the gate is at level 30:',(boot_1d['diff'] > 0).mean())"
   ]
  },
  {
   "cell_type": "markdown",
   "metadata": {
    "id": "HIQs7XyOP3yy"
   },
   "source": [
    "From this chart, we can see that the most likely % difference is around 1% - 2%, and that <strong>96% of the distribution is above 0%, in favor of a gate at level 30. </strong>"
   ]
  },
  {
   "cell_type": "markdown",
   "metadata": {
    "id": "82J9CDAtP3yy"
   },
   "source": [
    "## Part 5. Comparing 7-day Retention  <a name= '5'></a>\n",
    "The bootstrap analysis tells us that there is a high probability that 1-day retention is better when the gate is at level 30. However, since players have only been playing the game for one day, it is likely that most players haven't reached level 30 yet. That is, many players won't have been affected by the gate, even if it's as early as level 30. <p>But after having played for a week, more players should have reached level 40, and therefore it makes sense to also look at 7-day retention."
   ]
  },
  {
   "cell_type": "code",
   "execution_count": 207,
   "metadata": {
    "id": "6MCcXOGgP3yz",
    "outputId": "0378901b-871e-4054-b1b1-98fcfb9e86ad"
   },
   "outputs": [
    {
     "data": {
      "text/plain": [
       "version\n",
       "gate_30    0.190183\n",
       "gate_40    0.182000\n",
       "Name: retention_7, dtype: float64"
      ]
     },
     "execution_count": 207,
     "metadata": {},
     "output_type": "execute_result"
    }
   ],
   "source": [
    "df.groupby('version')['retention_7'].sum() / df.groupby('version')['retention_7'].count()"
   ]
  },
  {
   "cell_type": "markdown",
   "metadata": {
    "id": "YKtCTTCAP3y0"
   },
   "source": [
    "**Insights:**\n",
    "<ul>\n",
    "    <li><strong>Like with 1-day retention, 7-day retention is slightly lower when the gate is at level 40</strong> (18.2%) than when the gate is at level 30 (19.0%).\n",
    "    <li><strong>This difference is also larger than for 1-day retention</strong>, presumably because more players have had time to hit the first gate.\n",
    "    <li> <strong>The overall 7-day retention is lower than the overall 1-day retention</strong>; fewer people play a game a week after installing than a day after installing.\n",
    "</ul>\n",
    "<p>But as before, let's use bootstrap analysis to figure out how certain we should be of the difference between the AB-groups.</p>"
   ]
  },
  {
   "cell_type": "code",
   "execution_count": 208,
   "metadata": {
    "id": "TVdSDuYqP3y0",
    "outputId": "95c72cc1-18a1-401d-df18-153304677a68"
   },
   "outputs": [
    {
     "data": {
      "text/plain": [
       "'99.8%'"
      ]
     },
     "execution_count": 208,
     "metadata": {},
     "output_type": "execute_result"
    },
    {
     "data": {
      "image/png": "[encoded data removed]",
      "text/plain": [
       "<Figure size 640x480 with 1 Axes>"
      ]
     },
     "metadata": {},
     "output_type": "display_data"
    }
   ],
   "source": [
    "# Creating a list with bootstrapped means for each AB-group\n",
    "boot_7d = []\n",
    "for i in range(500):\n",
    "    boot_mean = df.sample(frac=1,replace=True).groupby('version')['retention_7'].mean()\n",
    "    boot_7d.append(boot_mean)\n",
    "\n",
    "# Transforming the list to a DataFrame\n",
    "boot_7d = pd.DataFrame(boot_7d)\n",
    "\n",
    "# Adding a column with the % difference between the two AB-groups\n",
    "boot_7d['diff'] = (boot_7d.gate_30 - boot_7d.gate_40)/boot_7d.gate_40*100\n",
    "\n",
    "# Ploting the bootstrap % difference\n",
    "ax = boot_7d['diff'].plot(kind='density')\n",
    "ax.set_title('% difference in 7-day retention between the two AB-groups')\n",
    "\n",
    "# Calculating the probability that 7-day retention is greater when the gate is at level 30\n",
    "prob = (boot_7d['diff'] > 0).sum() / len(boot_7d)\n",
    "\n",
    "# Pretty printing the probability\n",
    "'{:.1%}'.format(prob)"
   ]
  },
  {
   "cell_type": "markdown",
   "metadata": {
    "id": "ESL5EniyP3y1"
   },
   "source": [
    "## Part 6. Conclusion  <a name= '6'></a>\n",
    "<p>The bootstrap result tells us that <strong>there is strong evidence that 7-day retention is higher when the gate is at level 30 than when it is at level 40.</strong> The conclusion is: If we want to keep retention high — both 1-day and 7-day retention — we should not move the gate from level 30 to level 40.\n",
    "<p>There are, of course, other metrics we could look at, like the number of game rounds played or how much in-game purchases are made by the two AB-groups. But retention <em>is</em> one of the most important metrics. If we don't retain our player base, it doesn't matter how much money they spend in-game.</p>\n",
    "\n",
    "\n",
    "<p>So, why is retention higher when the gate is positioned earlier? One could expect the opposite: The later the obstacle, the longer people are going to engage with the game. But this is not what the data tells us. The theory of <em>hedonic adaptation</em> can give one explanation for this.\n",
    "<p>In short, <strong>hedonic adaptation is the tendency for people to get less and less enjoyment out of a fun activity over time if that activity is undertaken continuously.</strong> By forcing players to take a break when they reach a gate, their enjoyment of the game is prolonged. But <strong>when the gate is moved to level 40, fewer players make it far enough, and they are more likely to quit the game because they simply got bored of it. </strong></p>"
   ]
  },
  {
   "cell_type": "markdown",
   "metadata": {
    "id": "Mc6beM4rMkIv"
   },
   "source": [
    "## Other 2 methods "
   ]
  },
  {
   "cell_type": "code",
   "execution_count": null,
   "metadata": {},
   "outputs": [],
   "source": [
    "1-Day Retention Rate:\n",
    "\n",
    "- Null Hypothesis 1 (H0): Being in the group that encounters the first gate at level 40 does not affect the 1-day retention rate. \n",
    "- This suggests that the retention rate after one day is not influenced by the level at which the gate is encountered.\n",
    "- H0 1day:p 1day_level30 is equal to p 1day_level40\n",
    "​\n",
    "- Alternative Hypothesis 1 (H1): Being in the group that encounters the first gate at level 40 does affect the 1-day retention rate. \n",
    "- This suggests that the gate's placement does have an impact on how likely users are to return after their first day of gameplay.\n",
    "- H1 1day:p 1day_level30 isn't equal to p 1day_level40\n"
   ]
  },
  {
   "cell_type": "code",
   "execution_count": null,
   "metadata": {},
   "outputs": [],
   "source": [
    "- 7-Day Retention Rate:\n",
    "\n",
    "- Null Hypothesis 2 (H0): Being in the group that encounters the first gate at level 40 does not affect the 7-day retention rate. \n",
    "- This implies that the retention rate is the same regardless of the gate's placement at level 30 or 40.\n",
    "- H0 7day:p  7day_level30 is equal to p 7day_level40\n",
    "​\n",
    "- Alternative Hypothesis 2 (H1): Being in the group that encounters the first gate at level 40 does affect the 7-day retention rate. \n",
    "- This implies there is a difference in the retention rate that can be attributed to where the gate is placed.\n",
    "- H1 7day:p 7day_level30 isn't equal to p 7day_level40\n",
    "​"
   ]
  },
  {
   "cell_type": "code",
   "execution_count": 209,
   "metadata": {},
   "outputs": [
    {
     "name": "stdout",
     "output_type": "stream",
     "text": [
      "        retention_1        retention_7      \n",
      "               mean    sum        mean   sum\n",
      "version                                     \n",
      "gate_30    0.448188  20034    0.190201  8502\n",
      "gate_40    0.442283  20119    0.182000  8279\n"
     ]
    }
   ],
   "source": [
    "# Calculate the retention rate for each group and aggregate mean and count\n",
    "retention_rate = df[['userid', 'version', 'retention_1', 'retention_7']].groupby('version').agg({\n",
    "        'userid': 'count', \n",
    "    'retention_1': ['mean', 'sum'],\n",
    "    'retention_7': ['mean', 'sum']\n",
    "})\n",
    "\n",
    "# Show the aggregated retention rates\n",
    "print(retention_rates)\n"
   ]
  },
  {
   "cell_type": "code",
   "execution_count": 210,
   "metadata": {},
   "outputs": [],
   "source": [
    "# Analyze results"
   ]
  },
  {
   "cell_type": "code",
   "execution_count": 211,
   "metadata": {},
   "outputs": [],
   "source": [
    "# Extract the retention data\n",
    "n_gate_30 = retention_rate.loc['gate_30', ('userid', 'count')]\n",
    "n_gate_40 = retention_rate.loc['gate_40', ('userid', 'count')]\n",
    "retention_1_gate_30 = retention_rate.loc['gate_30', ('retention_1', 'sum')]\n",
    "retention_1_gate_40 = retention_rate.loc['gate_40', ('retention_1', 'sum')]\n",
    "retention_7_gate_30 = retention_rate.loc['gate_30', ('retention_7', 'sum')]\n",
    "retention_7_gate_40 = retention_rate.loc['gate_40', ('retention_7', 'sum')]\n"
   ]
  },
  {
   "cell_type": "markdown",
   "metadata": {},
   "source": [
    "# Method 1 : Z-test"
   ]
  },
  {
   "cell_type": "code",
   "execution_count": 212,
   "metadata": {},
   "outputs": [],
   "source": [
    "# Define the z-test function\n",
    "def z_test(x1, n1, x2, n2):\n",
    "    p1 = x1 / n1\n",
    "    p2 = x2 / n2\n",
    "    p_pool = (x1 + x2) / (n1 + n2)\n",
    "    se_pool = np.sqrt(p_pool * (1 - p_pool) * (1 / n1 + 1 / n2))\n",
    "    z = (p1 - p2) / se_pool\n",
    "    return z"
   ]
  },
  {
   "cell_type": "code",
   "execution_count": 213,
   "metadata": {},
   "outputs": [],
   "source": [
    "# Calculate the z-scores for 1-day and 7-day retention\n",
    "z_score_1 = z_test(retention_1_gate_30, n_gate_30, retention_1_gate_40, n_gate_40)\n",
    "z_score_7 = z_test(retention_7_gate_30, n_gate_30, retention_7_gate_40, n_gate_40)\n"
   ]
  },
  {
   "cell_type": "code",
   "execution_count": 214,
   "metadata": {},
   "outputs": [],
   "source": [
    "from scipy.stats import norm\n",
    "# Calculate the p-values for 1-day and 7-day retention\n",
    "p_value_1 = 1 - norm.cdf(z_score_1)\n",
    "p_value_7 = 1 - norm.cdf(z_score_7)\n"
   ]
  },
  {
   "cell_type": "code",
   "execution_count": 215,
   "metadata": {},
   "outputs": [
    {
     "name": "stdout",
     "output_type": "stream",
     "text": [
      "1-day retention: z_score = 1.787103509763628, p_value = 0.036960380170917295\n",
      "7-day retention: z_score = 3.1574100858819936, p_value = 0.000795886588699668\n"
     ]
    }
   ],
   "source": [
    "print(f\"1-day retention: z_score = {z_score_1}, p_value = {p_value_1}\")\n",
    "print(f\"7-day retention: z_score = {z_score_7}, p_value = {p_value_7}\")\n"
   ]
  },
  {
   "cell_type": "markdown",
   "metadata": {},
   "source": [
    "1-day retention Z-score and p-value:\n",
    "- Since the p-value is less than 0.05, it indicates that there is a statistically significant difference in the 1-day retention rate between the two groups. \n",
    "- Therefore, we reject the null hypothesis for 1-day retention, suggesting that the gate placement at level 30 affects 1-day retention compared to level 40.\n"
   ]
  },
  {
   "cell_type": "markdown",
   "metadata": {},
   "source": [
    "7-day retention Z-score and p-value:\n",
    "- The p-value is also less than 0.05, which is much smaller than the p-value for 1-day retention. \n",
    "- This indicates that there is a highly statistically significant difference in the 7-day retention rate between the two groups. \n",
    "- Thus, we reject the null hypothesis for 7-day retention as well, suggesting that the gate placement at level 30 has a significant impact on 7-day retention compared to level 40.\n"
   ]
  },
  {
   "cell_type": "markdown",
   "metadata": {},
   "source": [
    "# Method 2 :Z-test in Statsmodels"
   ]
  },
  {
   "cell_type": "code",
   "execution_count": 216,
   "metadata": {},
   "outputs": [],
   "source": [
    "import statsmodels.api as sm"
   ]
  },
  {
   "cell_type": "code",
   "execution_count": 218,
   "metadata": {},
   "outputs": [],
   "source": [
    "# Calculate the z-scores and p-values for 7-day retention using Statsmodels\n",
    "z_score_7, p_value_7 = sm.stats.proportions_ztest(\n",
    "    [retention_7_gate_30, retention_7_gate_40],\n",
    "    [n_gate_30, n_gate_40],\n",
    "    alternative='larger'\n",
    ")"
   ]
  },
  {
   "cell_type": "code",
   "execution_count": 219,
   "metadata": {},
   "outputs": [
    {
     "name": "stdout",
     "output_type": "stream",
     "text": [
      "1-day retention Z-test: z_score = 1.787103509763628, p_value = 0.0369603801709173\n",
      "7-day retention Z-test: z_score = 3.1574100858819936, p_value = 0.0007958865886996721\n"
     ]
    }
   ],
   "source": [
    "print(f\"1-day retention Z-test: z_score = {z_score_1}, p_value = {p_value_1}\")\n",
    "print(f\"7-day retention Z-test: z_score = {z_score_7}, p_value = {p_value_7}\")"
   ]
  },
  {
   "cell_type": "markdown",
   "metadata": {},
   "source": [
    "We got same result. "
   ]
  },
  {
   "cell_type": "markdown",
   "metadata": {},
   "source": [
    "## Summary"
   ]
  },
  {
   "cell_type": "markdown",
   "metadata": {},
   "source": [
    "The results of your A/B test indicate that the placement of the gate at level 30 is significantly associated with higher retention rates both after 1 day and after 7 days when compared to a gate placed at level 40. \n",
    "\n",
    "This suggests that players are more likely to continue engaging with the game when the first significant progress barrier they encounter is at the earlier level of 30 rather than at level 40."
   ]
  }
 ],
 "metadata": {
  "colab": {
   "provenance": []
  },
  "kernelspec": {
   "display_name": "Python 3 (ipykernel)",
   "language": "python",
   "name": "python3"
  },
  "language_info": {
   "codemirror_mode": {
    "name": "ipython",
    "version": 3
   },
   "file_extension": ".py",
   "mimetype": "text/x-python",
   "name": "python",
   "nbconvert_exporter": "python",
   "pygments_lexer": "ipython3",
   "version": "3.9.13"
  }
 },
 "nbformat": 4,
 "nbformat_minor": 4
}
